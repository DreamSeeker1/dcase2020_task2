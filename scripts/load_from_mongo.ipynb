{
 "cells": [
  {
   "cell_type": "code",
   "execution_count": 1,
   "metadata": {
    "collapsed": true,
    "pycharm": {
     "is_executing": false
    }
   },
   "outputs": [],
   "source": [
    "import dcase2020_task2\n",
    "\n",
    "from pymongo import MongoClient\n",
    "import numpy as np\n",
    "\n",
    "INVERSE_CLASS_MAP = {\n",
    "    0: 'fan',\n",
    "    1: 'pump',\n",
    "    2: 'slider',\n",
    "    3: 'ToyCar',\n",
    "    4: 'ToyConveyor',\n",
    "    5: 'valve'\n",
    "}\n",
    "\n",
    "baseline_auc = {\n",
    "    0: {0: 0.5441, 2: 0.7340, 4: 0.6161, 6: 0.7392},\n",
    "    1: {0: 0.6715, 2: 0.6153, 4: 0.8833, 6: 0.7455},\n",
    "    2: {0: 0.9619, 2: 0.7897, 4: 0.9430, 6: 0.6959},\n",
    "    3: {1: 0.8136, 2: 0.8597, 3: 0.6330, 4: 0.8445},\n",
    "    4: {1: 0.7807, 2: 0.6416, 3: 0.7535},\n",
    "    5: {0: 0.6876, 2: 0.6818, 4: 0.7430, 6: 0.5390}\n",
    "}\n",
    "\n",
    "baseline_pauc = {\n",
    "    0: {0: 0.4937, 2: 0.5481, 4: 0.5326, 6: 0.5235},\n",
    "    1: {0: 0.5674, 2: 0.5810, 4: 0.6710, 6: 0.5802},\n",
    "    2: {0: 0.8144, 2: 0.6368, 4: 0.7198, 6: 0.4902},\n",
    "    3: {1: 0.6840, 2: 0.7772, 3: 0.5521, 4: 0.6897},\n",
    "    4: {1: 0.6425, 2: 0.5601, 3: 0.6103},\n",
    "    5: {0: 0.5170, 2: 0.5183, 4: 0.5197, 6: 0.4843}\n",
    "}"
   ]
  },
  {
   "cell_type": "code",
   "execution_count": 2,
   "outputs": [
    {
     "data": {
      "text/plain": "['fs.chunks',\n 'omniboard.settings',\n 'omniboard.metric.columns',\n 'omniboard.custom.columns',\n 'fs.files',\n 'runs',\n 'metrics']"
     },
     "metadata": {},
     "output_type": "execute_result",
     "execution_count": 2
    }
   ],
   "source": [
    "client = MongoClient('mongodb://student2.cp.jku.at:27017/')\n",
    "db = client.dcase2020_task2\n",
    "db.list_collection_names()\n"
   ],
   "metadata": {
    "collapsed": false,
    "pycharm": {
     "name": "#%%\n",
     "is_executing": false
    }
   }
  },
  {
   "cell_type": "code",
   "execution_count": 16,
   "outputs": [
    {
     "name": "stdout",
     "text": [
      "23 experiments loaded\n"
     ],
     "output_type": "stream"
    }
   ],
   "source": [
    "experiments = []\n",
    "for experiment in db.runs.find(\n",
    "        {\n",
    "         \"experiment.name\": \"dcase2020_task2_baseline\"\n",
    "        }\n",
    "):\n",
    "    \n",
    "    if  (experiment['config'].get('normalize', True)) and (experiment['config'].get('normalize_raw', True)):\n",
    "        experiments.append([\n",
    "            experiment['config']['machine_type'], \n",
    "            experiment['config']['machine_id'], \n",
    "            experiment['result']['auroc_mean'],\n",
    "            experiment['result']['pauroc_mean'],\n",
    "        ])\n",
    "print(\"{} experiments loaded\".format(len(experiments)))  \n",
    "\n",
    "assert len(experiments) == 23"
   ],
   "metadata": {
    "collapsed": false,
    "pycharm": {
     "name": "#%%\n",
     "is_executing": false
    }
   }
  },
  {
   "cell_type": "code",
   "execution_count": 17,
   "outputs": [
    {
     "name": "stdout",
     "text": [
      "| Machine | Type | ID   | AUC        | to BL      | AUC        | to BL      |\n",
      "| ------- | :--- | :--- | ---------- | ---------- | ---------- | ---------- |\n",
      "|fan\t| 0\t|0\t|0.5639\t|+0.0198\t|0.4959\t|+0.0022\t|\n",
      "|fan\t| 0\t|2\t|0.8054\t|+0.0714\t|0.6094\t|+0.0613\t|\n",
      "|fan\t| 0\t|4\t|0.6661\t|+0.0500\t|0.5413\t|+0.0087\t|\n",
      "|fan\t| 0\t|6\t|0.9022\t|+0.1630\t|0.7100\t|+0.1865\t|\n",
      "|pump\t| 1\t|0\t|0.6967\t|+0.0252\t|0.5396\t|-0.0278\t|\n",
      "|pump\t| 1\t|2\t|0.6124\t|-0.0029\t|0.5771\t|-0.0039\t|\n",
      "|pump\t| 1\t|4\t|0.9497\t|+0.0664\t|0.7932\t|+0.1222\t|\n",
      "|pump\t| 1\t|6\t|0.8019\t|+0.0564\t|0.6068\t|+0.0266\t|\n",
      "|slider\t| 2\t|0\t|0.9342\t|-0.0277\t|0.6991\t|-0.1153\t|\n",
      "|slider\t| 2\t|2\t|0.7753\t|-0.0144\t|0.6069\t|-0.0299\t|\n",
      "|slider\t| 2\t|4\t|0.9044\t|-0.0386\t|0.6257\t|-0.0941\t|\n",
      "|slider\t| 2\t|6\t|0.6628\t|-0.0331\t|0.4979\t|+0.0077\t|\n",
      "|ToyCar\t| 3\t|1\t|0.7976\t|-0.0160\t|0.6980\t|+0.0140\t|\n",
      "|ToyCar\t| 3\t|2\t|0.8678\t|+0.0081\t|0.7776\t|+0.0004\t|\n",
      "|ToyCar\t| 3\t|3\t|0.6652\t|+0.0322\t|0.5633\t|+0.0112\t|\n",
      "|ToyCar\t| 3\t|4\t|0.8859\t|+0.0414\t|0.7442\t|+0.0545\t|\n",
      "|ToyConveyor\t| 4\t|1\t|0.7552\t|-0.0255\t|0.6257\t|-0.0168\t|\n",
      "|ToyConveyor\t| 4\t|2\t|0.6276\t|-0.0140\t|0.5590\t|-0.0011\t|\n",
      "|ToyConveyor\t| 4\t|3\t|0.7387\t|-0.0148\t|0.5950\t|-0.0153\t|\n",
      "|valve\t| 5\t|0\t|0.6751\t|-0.0125\t|0.5179\t|+0.0009\t|\n",
      "|valve\t| 5\t|2\t|0.6286\t|-0.0532\t|0.5105\t|-0.0078\t|\n",
      "|valve\t| 5\t|4\t|0.7339\t|-0.0091\t|0.5263\t|+0.0066\t|\n",
      "|valve\t| 5\t|6\t|0.5888\t|+0.0498\t|0.4947\t|+0.0104\t|\n"
     ],
     "output_type": "stream"
    }
   ],
   "source": [
    "print(\"| Machine | Type | ID   | AUC        | to BL      | AUC        | to BL      |\")\n",
    "print(\"| ------- | :--- | :--- | ---------- | ---------- | ---------- | ---------- |\")\n",
    "for e in experiments:\n",
    "        print(\"|{}\\t| {}\\t|{}\\t|{:0.4f}\\t|{:+0.4f}\\t|{:0.4f}\\t|{:+1.4f}\\t|\".format(\n",
    "            INVERSE_CLASS_MAP[e[0]],\n",
    "            e[0],\n",
    "            e[1],\n",
    "            e[2],\n",
    "            e[2] - baseline_auc[e[0]][e[1]],\n",
    "            e[3],\n",
    "            e[3] - baseline_pauc[e[0]][e[1]]\n",
    "        ))"
   ],
   "metadata": {
    "collapsed": false,
    "pycharm": {
     "name": "#%%\n",
     "is_executing": false
    }
   }
  },
  {
   "cell_type": "code",
   "execution_count": null,
   "outputs": [],
   "source": [
    "\n"
   ],
   "metadata": {
    "collapsed": false,
    "pycharm": {
     "name": "#%%\n"
    }
   }
  }
 ],
 "metadata": {
  "kernelspec": {
   "display_name": "Python 3",
   "language": "python",
   "name": "python3"
  },
  "language_info": {
   "codemirror_mode": {
    "name": "ipython",
    "version": 2
   },
   "file_extension": ".py",
   "mimetype": "text/x-python",
   "name": "python",
   "nbconvert_exporter": "python",
   "pygments_lexer": "ipython2",
   "version": "2.7.6"
  },
  "pycharm": {
   "stem_cell": {
    "cell_type": "raw",
    "source": [],
    "metadata": {
     "collapsed": false
    }
   }
  }
 },
 "nbformat": 4,
 "nbformat_minor": 0
}