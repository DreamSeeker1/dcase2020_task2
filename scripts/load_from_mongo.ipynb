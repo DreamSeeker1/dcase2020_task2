{
 "cells": [
  {
   "cell_type": "code",
   "execution_count": 69,
   "metadata": {
    "collapsed": true,
    "pycharm": {
     "is_executing": false
    }
   },
   "outputs": [],
   "source": [
    "import dcase2020_task2\n",
    "\n",
    "from pymongo import MongoClient\n",
    "import numpy as np\n",
    "\n",
    "INVERSE_CLASS_MAP = {\n",
    "    0: 'fan',\n",
    "    1: 'pump',\n",
    "    2: 'slider',\n",
    "    3: 'ToyCar',\n",
    "    4: 'ToyConveyor',\n",
    "    5: 'valve'\n",
    "}\n",
    "\n",
    "baseline_auc = {\n",
    "    0: {0: 0.5441, 2: 0.7340, 4: 0.6161, 6: 0.7392},\n",
    "    1: {0: 0.6715, 2: 0.6153, 4: 0.8833, 6: 0.7455},\n",
    "    2: {0: 0.9619, 2: 0.7897, 4: 0.9430, 6: 0.6959},\n",
    "    3: {1: 0.8136, 2: 0.8597, 3: 0.6330, 4: 0.8445},\n",
    "    4: {1: 0.7807, 2: 0.6416, 3: 0.7535},\n",
    "    5: {0: 0.6876, 2: 0.6818, 4: 0.7430, 6: 0.5390}\n",
    "}\n",
    "\n",
    "baseline_pauc = {\n",
    "    0: {0: 0.4937, 2: 0.5481, 4: 0.5326, 6: 0.5235},\n",
    "    1: {0: 0.5674, 2: 0.5810, 4: 0.6710, 6: 0.5802},\n",
    "    2: {0: 0.8144, 2: 0.6368, 4: 0.7198, 6: 0.4902},\n",
    "    3: {1: 0.6840, 2: 0.7772, 3: 0.5521, 4: 0.6897},\n",
    "    4: {1: 0.6425, 2: 0.5601, 3: 0.6103},\n",
    "    5: {0: 0.5170, 2: 0.5183, 4: 0.5197, 6: 0.4843}\n",
    "}"
   ]
  },
  {
   "cell_type": "code",
   "execution_count": 2,
   "outputs": [],
   "source": [
    "client = MongoClient('mongodb://student2.cp.jku.at:27017/')\n",
    "db = client.dcase2020_task2\n",
    "db.list_collection_names()\n"
   ],
   "metadata": {
    "collapsed": false,
    "pycharm": {
     "name": "#%%\n",
     "is_executing": false
    }
   }
  },
  {
   "cell_type": "code",
   "execution_count": 116,
   "outputs": [
    {
     "name": "stdout",
     "text": [
      "23 experiments loaded\n"
     ],
     "output_type": "stream"
    }
   ],
   "source": [
    "experiments = []\n",
    "for experiment in db.runs.find(\n",
    "        {\n",
    "         \"experiment.name\": \"dcase2020_task2_classification\"\n",
    "        }\n",
    "):\n",
    "    if (experiment['config'].get('normalize', True) is True) and (experiment['config'].get('normalize_raw', True) is True):\n",
    "        experiments.append([\n",
    "            experiment['config']['machine_type'], \n",
    "            experiment['config']['machine_id'], \n",
    "            experiment['result']['auroc_mean'],\n",
    "            experiment['result']['pauroc_mean'],\n",
    "        ])\n",
    "print(\"{} experiments loaded\".format(len(experiments)))  \n",
    "\n",
    "assert len(experiments) == 23"
   ],
   "metadata": {
    "collapsed": false,
    "pycharm": {
     "name": "#%%\n",
     "is_executing": false
    }
   }
  },
  {
   "cell_type": "code",
   "execution_count": 117,
   "outputs": [
    {
     "name": "stdout",
     "text": [
      "| Machine | Type | ID   | AUC        | to BL      | AUC        | to BL      |\n",
      "| ------- | :--- | :--- | ---------- | ---------- | ---------- | ---------- |\n",
      "|fan\t| 0\t|0\t|0.6861\t|+0.1420\t|0.6139\t|+0.1202\t|\n",
      "|fan\t| 0\t|2\t|0.9867\t|+0.2527\t|0.9370\t|+0.3889\t|\n",
      "|fan\t| 0\t|4\t|0.8060\t|+0.1899\t|0.6676\t|+0.1350\t|\n",
      "|fan\t| 0\t|6\t|0.7448\t|+0.0056\t|0.8455\t|+0.3220\t|\n",
      "|pump\t| 1\t|0\t|0.8480\t|+0.1765\t|0.7030\t|+0.1356\t|\n",
      "|pump\t| 1\t|2\t|0.5552\t|-0.0601\t|0.5586\t|-0.0224\t|\n",
      "|pump\t| 1\t|4\t|0.9995\t|+0.1162\t|0.9974\t|+0.3264\t|\n",
      "|pump\t| 1\t|6\t|0.9117\t|+0.1662\t|0.7632\t|+0.1830\t|\n",
      "|slider\t| 2\t|0\t|0.5270\t|-0.4349\t|0.6415\t|-0.1729\t|\n",
      "|slider\t| 2\t|2\t|0.7433\t|-0.0464\t|0.5346\t|-0.1022\t|\n",
      "|slider\t| 2\t|4\t|0.9879\t|+0.0449\t|0.9364\t|+0.2166\t|\n",
      "|slider\t| 2\t|6\t|0.8589\t|+0.1630\t|0.5707\t|+0.0805\t|\n",
      "|ToyCar\t| 3\t|1\t|0.4801\t|-0.3335\t|0.4940\t|-0.1900\t|\n",
      "|ToyCar\t| 3\t|2\t|0.4581\t|-0.4016\t|0.4854\t|-0.2918\t|\n",
      "|ToyCar\t| 3\t|3\t|0.4100\t|-0.2230\t|0.4870\t|-0.0651\t|\n",
      "|ToyCar\t| 3\t|4\t|0.3659\t|-0.4786\t|0.4772\t|-0.2125\t|\n",
      "|ToyConveyor\t| 4\t|1\t|0.7495\t|-0.0312\t|0.6487\t|+0.0062\t|\n",
      "|ToyConveyor\t| 4\t|2\t|0.5607\t|-0.0809\t|0.5252\t|-0.0349\t|\n",
      "|ToyConveyor\t| 4\t|3\t|0.6587\t|-0.0948\t|0.5552\t|-0.0551\t|\n",
      "|valve\t| 5\t|0\t|0.9791\t|+0.2915\t|0.9390\t|+0.4220\t|\n",
      "|valve\t| 5\t|2\t|0.3698\t|-0.3120\t|0.4895\t|-0.0288\t|\n",
      "|valve\t| 5\t|4\t|0.6561\t|-0.0869\t|0.5175\t|-0.0022\t|\n",
      "|valve\t| 5\t|6\t|0.7242\t|+0.1852\t|0.5417\t|+0.0574\t|\n"
     ],
     "output_type": "stream"
    }
   ],
   "source": [
    "print(\"| Machine | Type | ID   | AUC        | to BL      | AUC        | to BL      |\")\n",
    "print(\"| ------- | :--- | :--- | ---------- | ---------- | ---------- | ---------- |\")\n",
    "for e in experiments:\n",
    "        print(\"|{}\\t| {}\\t|{}\\t|{:0.4f}\\t|{:+0.4f}\\t|{:0.4f}\\t|{:+1.4f}\\t|\".format(\n",
    "            INVERSE_CLASS_MAP[e[0]],\n",
    "            e[0],\n",
    "            e[1],\n",
    "            e[2],\n",
    "            e[2] - baseline_auc[e[0]][e[1]],\n",
    "            e[3],\n",
    "            e[3] - baseline_pauc[e[0]][e[1]]\n",
    "        ))"
   ],
   "metadata": {
    "collapsed": false,
    "pycharm": {
     "name": "#%%\n",
     "is_executing": false
    }
   }
  },
  {
   "cell_type": "code",
   "execution_count": null,
   "outputs": [],
   "source": [
    "\n"
   ],
   "metadata": {
    "collapsed": false,
    "pycharm": {
     "name": "#%%\n"
    }
   }
  }
 ],
 "metadata": {
  "kernelspec": {
   "display_name": "Python 3",
   "language": "python",
   "name": "python3"
  },
  "language_info": {
   "codemirror_mode": {
    "name": "ipython",
    "version": 2
   },
   "file_extension": ".py",
   "mimetype": "text/x-python",
   "name": "python",
   "nbconvert_exporter": "python",
   "pygments_lexer": "ipython2",
   "version": "2.7.6"
  },
  "pycharm": {
   "stem_cell": {
    "cell_type": "raw",
    "source": [],
    "metadata": {
     "collapsed": false
    }
   }
  }
 },
 "nbformat": 4,
 "nbformat_minor": 0
}