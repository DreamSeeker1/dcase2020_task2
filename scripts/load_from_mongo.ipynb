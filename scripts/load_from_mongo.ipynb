{
 "cells": [
  {
   "cell_type": "code",
   "execution_count": 35,
   "metadata": {
    "collapsed": true,
    "pycharm": {
     "is_executing": false
    }
   },
   "outputs": [],
   "source": [
    "from pymongo import MongoClient\n",
    "import numpy as np"
   ]
  },
  {
   "cell_type": "code",
   "execution_count": 3,
   "outputs": [],
   "source": [
    "client = MongoClient('mongodb://student2.cp.jku.at:27017/')"
   ],
   "metadata": {
    "collapsed": false,
    "pycharm": {
     "name": "#%%\n",
     "is_executing": false
    }
   }
  },
  {
   "cell_type": "code",
   "execution_count": 37,
   "outputs": [],
   "source": [
    "db = client.dcase2020_task2\n",
    "# db.runs.find_one()"
   ],
   "metadata": {
    "collapsed": false,
    "pycharm": {
     "name": "#%%\n",
     "is_executing": false
    }
   }
  },
  {
   "cell_type": "code",
   "execution_count": 15,
   "outputs": [
    {
     "data": {
      "text/plain": "['fs.chunks',\n 'omniboard.settings',\n 'omniboard.metric.columns',\n 'omniboard.custom.columns',\n 'fs.files',\n 'runs',\n 'metrics']"
     },
     "metadata": {},
     "output_type": "execute_result",
     "execution_count": 15
    }
   ],
   "source": [
    "\n",
    "db.list_collection_names()"
   ],
   "metadata": {
    "collapsed": false,
    "pycharm": {
     "name": "#%%\n",
     "is_executing": false
    }
   }
  },
  {
   "cell_type": "code",
   "execution_count": 38,
   "outputs": [],
   "source": [
    "experiments = []\n",
    "for experiment in db.runs.find({\"experiment.name\": \"dcase2020_task2_baseline\"}):\n",
    "    experiments.append([\n",
    "        experiment['config']['machine_type'], \n",
    "        experiment['config']['machine_id'], \n",
    "        experiment['result']['auroc_mean'],\n",
    "        experiment['config'].get('normalize', True), \n",
    "        experiment['config'].get('normalize_raw', True) \n",
    "    ])\n",
    "    \n",
    "    "
   ],
   "metadata": {
    "collapsed": false,
    "pycharm": {
     "name": "#%%\n",
     "is_executing": false
    }
   }
  },
  {
   "cell_type": "code",
   "execution_count": 39,
   "outputs": [
    {
     "data": {
      "text/plain": "array([[0.        , 0.        , 0.5639312 , 1.        , 1.        ],\n       [0.        , 2.        , 0.8054039 , 1.        , 1.        ],\n       [0.        , 4.        , 0.66609195, 1.        , 1.        ],\n       [0.        , 6.        , 0.90216066, 1.        , 1.        ],\n       [1.        , 0.        , 0.69671329, 1.        , 1.        ],\n       [1.        , 2.        , 0.61243243, 1.        , 1.        ],\n       [1.        , 4.        , 0.9497    , 1.        , 1.        ],\n       [1.        , 6.        , 0.80186275, 1.        , 1.        ],\n       [2.        , 0.        , 0.93418539, 1.        , 1.        ],\n       [2.        , 2.        , 0.77531835, 1.        , 1.        ],\n       [2.        , 4.        , 0.90438202, 1.        , 1.        ],\n       [2.        , 6.        , 0.66280899, 1.        , 1.        ],\n       [3.        , 1.        , 0.79755411, 1.        , 1.        ],\n       [3.        , 2.        , 0.86783827, 1.        , 1.        ],\n       [3.        , 3.        , 0.66516442, 1.        , 1.        ],\n       [3.        , 4.        , 0.88592992, 1.        , 1.        ],\n       [4.        , 1.        , 0.75519688, 1.        , 1.        ],\n       [4.        , 2.        , 0.62763028, 1.        , 1.        ],\n       [4.        , 3.        , 0.73869802, 1.        , 1.        ],\n       [5.        , 0.        , 0.67512605, 1.        , 1.        ],\n       [5.        , 2.        , 0.62858333, 1.        , 1.        ],\n       [5.        , 4.        , 0.73391667, 1.        , 1.        ],\n       [5.        , 6.        , 0.58883333, 1.        , 1.        ],\n       [0.        , 0.        , 0.55164619, 0.        , 0.        ],\n       [0.        , 0.        , 0.56277641, 1.        , 0.        ],\n       [0.        , 2.        , 0.72852368, 0.        , 0.        ],\n       [0.        , 2.        , 0.82325905, 1.        , 0.        ],\n       [0.        , 4.        , 0.55304598, 0.        , 0.        ],\n       [0.        , 4.        , 0.60316092, 1.        , 0.        ],\n       [0.        , 6.        , 0.79105263, 0.        , 0.        ],\n       [0.        , 6.        , 0.87648199, 1.        , 0.        ],\n       [1.        , 0.        , 0.72811189, 0.        , 0.        ],\n       [1.        , 0.        , 0.66391608, 1.        , 0.        ],\n       [1.        , 2.        , 0.58117117, 0.        , 0.        ],\n       [1.        , 2.        , 0.60495495, 1.        , 0.        ],\n       [1.        , 4.        , 0.9266    , 0.        , 0.        ],\n       [1.        , 4.        , 0.9793    , 1.        , 0.        ],\n       [1.        , 6.        , 0.68323529, 0.        , 0.        ],\n       [1.        , 6.        , 0.72705882, 1.        , 0.        ],\n       [2.        , 0.        , 0.94233146, 0.        , 0.        ],\n       [2.        , 0.        , 0.96502809, 1.        , 0.        ],\n       [2.        , 2.        , 0.72220974, 0.        , 0.        ],\n       [2.        , 2.        , 0.79265918, 1.        , 0.        ],\n       [2.        , 4.        , 0.64494382, 0.        , 0.        ],\n       [2.        , 4.        , 0.95005618, 1.        , 0.        ],\n       [2.        , 6.        , 0.54337079, 0.        , 0.        ],\n       [2.        , 6.        , 0.69955056, 1.        , 0.        ],\n       [3.        , 1.        , 0.76502165, 0.        , 0.        ],\n       [3.        , 1.        , 0.80054113, 1.        , 0.        ],\n       [3.        , 2.        , 0.81620485, 0.        , 0.        ],\n       [3.        , 2.        , 0.88085175, 1.        , 0.        ],\n       [3.        , 3.        , 0.64561725, 0.        , 0.        ],\n       [3.        , 3.        , 0.69081402, 1.        , 0.        ],\n       [3.        , 4.        , 0.88922911, 0.        , 0.        ],\n       [3.        , 4.        , 0.88643666, 1.        , 0.        ],\n       [4.        , 1.        , 0.69077656, 0.        , 0.        ],\n       [4.        , 1.        , 0.80093438, 1.        , 0.        ],\n       [4.        , 2.        , 0.59872887, 0.        , 0.        ],\n       [4.        , 2.        , 0.6645088 , 1.        , 0.        ],\n       [4.        , 3.        , 0.67937387, 0.        , 0.        ],\n       [4.        , 3.        , 0.7353946 , 1.        , 0.        ],\n       [5.        , 0.        , 0.53546218, 0.        , 0.        ],\n       [5.        , 2.        , 0.56541667, 0.        , 0.        ],\n       [5.        , 0.        , 0.72201681, 1.        , 0.        ],\n       [5.        , 4.        , 0.48816667, 0.        , 0.        ],\n       [5.        , 2.        , 0.7115    , 1.        , 0.        ],\n       [5.        , 6.        , 0.45841667, 0.        , 0.        ],\n       [5.        , 4.        , 0.74233333, 1.        , 0.        ],\n       [5.        , 6.        , 0.63808333, 1.        , 0.        ]])"
     },
     "metadata": {},
     "output_type": "execute_result",
     "execution_count": 39
    }
   ],
   "source": [
    "np.array(experiments)\n"
   ],
   "metadata": {
    "collapsed": false,
    "pycharm": {
     "name": "#%%\n",
     "is_executing": false
    }
   }
  },
  {
   "cell_type": "code",
   "execution_count": null,
   "outputs": [],
   "source": [
    "\n"
   ],
   "metadata": {
    "collapsed": false,
    "pycharm": {
     "name": "#%%\n"
    }
   }
  }
 ],
 "metadata": {
  "kernelspec": {
   "display_name": "Python 3",
   "language": "python",
   "name": "python3"
  },
  "language_info": {
   "codemirror_mode": {
    "name": "ipython",
    "version": 2
   },
   "file_extension": ".py",
   "mimetype": "text/x-python",
   "name": "python",
   "nbconvert_exporter": "python",
   "pygments_lexer": "ipython2",
   "version": "2.7.6"
  },
  "pycharm": {
   "stem_cell": {
    "cell_type": "raw",
    "source": [],
    "metadata": {
     "collapsed": false
    }
   }
  }
 },
 "nbformat": 4,
 "nbformat_minor": 0
}