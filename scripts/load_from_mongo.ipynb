{
 "cells": [
  {
   "cell_type": "code",
   "execution_count": 69,
   "metadata": {
    "collapsed": true,
    "pycharm": {
     "is_executing": false
    }
   },
   "outputs": [],
   "source": [
    "import dcase2020_task2\n",
    "\n",
    "from pymongo import MongoClient\n",
    "import numpy as np\n",
    "\n",
    "INVERSE_CLASS_MAP = {\n",
    "    0: 'fan',\n",
    "    1: 'pump',\n",
    "    2: 'slider',\n",
    "    3: 'ToyCar',\n",
    "    4: 'ToyConveyor',\n",
    "    5: 'valve'\n",
    "}\n",
    "\n",
    "baseline_auc = {\n",
    "    0: {0: 0.5441, 2: 0.7340, 4: 0.6161, 6: 0.7392},\n",
    "    1: {0: 0.6715, 2: 0.6153, 4: 0.8833, 6: 0.7455},\n",
    "    2: {0: 0.9619, 2: 0.7897, 4: 0.9430, 6: 0.6959},\n",
    "    3: {1: 0.8136, 2: 0.8597, 3: 0.6330, 4: 0.8445},\n",
    "    4: {1: 0.7807, 2: 0.6416, 3: 0.7535},\n",
    "    5: {0: 0.6876, 2: 0.6818, 4: 0.7430, 6: 0.5390}\n",
    "}\n",
    "\n",
    "baseline_pauc = {\n",
    "    0: {0: 0.4937, 2: 0.5481, 4: 0.5326, 6: 0.5235},\n",
    "    1: {0: 0.5674, 2: 0.5810, 4: 0.6710, 6: 0.5802},\n",
    "    2: {0: 0.8144, 2: 0.6368, 4: 0.7198, 6: 0.4902},\n",
    "    3: {1: 0.6840, 2: 0.7772, 3: 0.5521, 4: 0.6897},\n",
    "    4: {1: 0.6425, 2: 0.5601, 3: 0.6103},\n",
    "    5: {0: 0.5170, 2: 0.5183, 4: 0.5197, 6: 0.4843}\n",
    "}"
   ]
  },
  {
   "cell_type": "code",
   "execution_count": 2,
   "outputs": [],
   "source": [
    "client = MongoClient('mongodb://student2.cp.jku.at:27017/')\n",
    "db = client.dcase2020_task2\n",
    "db.list_collection_names()\n"
   ],
   "metadata": {
    "collapsed": false,
    "pycharm": {
     "name": "#%%\n",
     "is_executing": false
    }
   }
  },
  {
   "cell_type": "code",
   "execution_count": 111,
   "outputs": [
    {
     "name": "stdout",
     "text": [
      "True\n",
      "False\n",
      "True\n",
      "False\n",
      "True\n",
      "False\n",
      "True\n",
      "False\n",
      "True\n",
      "False\n",
      "True\n",
      "False\n",
      "True\n",
      "False\n",
      "True\n",
      "False\n",
      "True\n",
      "False\n",
      "True\n",
      "False\n",
      "True\n",
      "False\n",
      "True\n",
      "False\n",
      "True\n",
      "False\n",
      "True\n",
      "False\n",
      "True\n",
      "False\n",
      "True\n",
      "False\n",
      "True\n",
      "False\n",
      "True\n",
      "False\n",
      "True\n",
      "False\n",
      "True\n",
      "False\n",
      "True\n",
      "False\n",
      "True\n",
      "False\n",
      "True\n",
      "False\n",
      "23 experiments loaded\n"
     ],
     "output_type": "stream"
    }
   ],
   "source": [
    "experiments = []\n",
    "for experiment in db.runs.find(\n",
    "        {\n",
    "         \"experiment.name\": \"dcase2020_task2_baseline\"\n",
    "        }\n",
    "        \n",
    "):\n",
    "    if (experiment['config'].get('normalize', True) is True) and (experiment['config'].get('normalize_raw', True) is False):\n",
    "        print(experiment['config'].get('normalize', True))\n",
    "        print(experiment['config'].get('normalize_raw', True))\n",
    "        experiments.append([\n",
    "            experiment['config']['machine_type'], \n",
    "            experiment['config']['machine_id'], \n",
    "            experiment['result']['auroc_mean'],\n",
    "            experiment['result']['pauroc_mean'],\n",
    "            \n",
    "        ])\n",
    "print(\"{} experiments loaded\".format(len(experiments)))  \n",
    "\n",
    "assert len(experiments) == 23"
   ],
   "metadata": {
    "collapsed": false,
    "pycharm": {
     "name": "#%%\n",
     "is_executing": false
    }
   }
  },
  {
   "cell_type": "code",
   "execution_count": 89,
   "outputs": [
    {
     "name": "stdout",
     "text": [
      "| Machine | Type | ID   | AUC        | to BL      | AUC        | to BL      |\n",
      "| ------- | :--- | :--- | ---------- | ---------- | ---------- | ---------- |\n",
      "|fan\t| 0\t|0\t|0.5516\t|+0.0075\t|0.5096\t|+0.0159\t|\n",
      "|fan\t| 0\t|2\t|0.7285\t|-0.0055\t|0.5584\t|+0.0103\t|\n",
      "|fan\t| 0\t|4\t|0.5530\t|-0.0631\t|0.5032\t|-0.0294\t|\n",
      "|fan\t| 0\t|6\t|0.7911\t|+0.0519\t|0.6481\t|+0.1246\t|\n",
      "|pump\t| 1\t|0\t|0.7281\t|+0.0566\t|0.5970\t|+0.0296\t|\n",
      "|pump\t| 1\t|2\t|0.5812\t|-0.0341\t|0.5495\t|-0.0315\t|\n",
      "|pump\t| 1\t|4\t|0.9266\t|+0.0433\t|0.7463\t|+0.0753\t|\n",
      "|pump\t| 1\t|6\t|0.6832\t|-0.0623\t|0.6197\t|+0.0395\t|\n",
      "|slider\t| 2\t|0\t|0.9423\t|-0.0196\t|0.7306\t|-0.0838\t|\n",
      "|slider\t| 2\t|2\t|0.7222\t|-0.0675\t|0.5456\t|-0.0912\t|\n",
      "|slider\t| 2\t|4\t|0.6449\t|-0.2981\t|0.5506\t|-0.1692\t|\n",
      "|slider\t| 2\t|6\t|0.5434\t|-0.1525\t|0.5098\t|+0.0196\t|\n",
      "|ToyCar\t| 3\t|1\t|0.7650\t|-0.0486\t|0.6409\t|-0.0431\t|\n",
      "|ToyCar\t| 3\t|2\t|0.8162\t|-0.0435\t|0.6620\t|-0.1152\t|\n",
      "|ToyCar\t| 3\t|3\t|0.6456\t|+0.0126\t|0.5514\t|-0.0007\t|\n",
      "|ToyCar\t| 3\t|4\t|0.8892\t|+0.0447\t|0.7331\t|+0.0434\t|\n",
      "|ToyConveyor\t| 4\t|1\t|0.6908\t|-0.0899\t|0.5599\t|-0.0826\t|\n",
      "|ToyConveyor\t| 4\t|2\t|0.5987\t|-0.0429\t|0.5178\t|-0.0423\t|\n",
      "|ToyConveyor\t| 4\t|3\t|0.6794\t|-0.0741\t|0.5444\t|-0.0659\t|\n",
      "|valve\t| 5\t|0\t|0.5355\t|-0.1521\t|0.5033\t|-0.0137\t|\n",
      "|valve\t| 5\t|2\t|0.5654\t|-0.1164\t|0.4855\t|-0.0328\t|\n",
      "|valve\t| 5\t|4\t|0.4882\t|-0.2548\t|0.5162\t|-0.0035\t|\n",
      "|valve\t| 5\t|6\t|0.4584\t|-0.0806\t|0.4961\t|+0.0118\t|\n"
     ],
     "output_type": "stream"
    }
   ],
   "source": [
    "print(\"| Machine | Type | ID   | AUC        | to BL      | AUC        | to BL      |\")\n",
    "print(\"| ------- | :--- | :--- | ---------- | ---------- | ---------- | ---------- |\")\n",
    "for e in experiments:\n",
    "        print(\"|{}\\t| {}\\t|{}\\t|{:0.4f}\\t|{:+0.4f}\\t|{:0.4f}\\t|{:+1.4f}\\t|\".format(\n",
    "            INVERSE_CLASS_MAP[e[0]],\n",
    "            e[0],\n",
    "            e[1],\n",
    "            e[2],\n",
    "            e[2] - baseline_auc[e[0]][e[1]],\n",
    "            e[3],\n",
    "            e[3] - baseline_pauc[e[0]][e[1]]\n",
    "        ))"
   ],
   "metadata": {
    "collapsed": false,
    "pycharm": {
     "name": "#%%\n",
     "is_executing": false
    }
   }
  },
  {
   "cell_type": "code",
   "execution_count": null,
   "outputs": [],
   "source": [
    "\n"
   ],
   "metadata": {
    "collapsed": false,
    "pycharm": {
     "name": "#%%\n"
    }
   }
  }
 ],
 "metadata": {
  "kernelspec": {
   "display_name": "Python 3",
   "language": "python",
   "name": "python3"
  },
  "language_info": {
   "codemirror_mode": {
    "name": "ipython",
    "version": 2
   },
   "file_extension": ".py",
   "mimetype": "text/x-python",
   "name": "python",
   "nbconvert_exporter": "python",
   "pygments_lexer": "ipython2",
   "version": "2.7.6"
  },
  "pycharm": {
   "stem_cell": {
    "cell_type": "raw",
    "source": [],
    "metadata": {
     "collapsed": false
    }
   }
  }
 },
 "nbformat": 4,
 "nbformat_minor": 0
}