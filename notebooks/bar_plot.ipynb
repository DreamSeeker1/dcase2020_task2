{
 "cells": [
  {
   "cell_type": "code",
   "execution_count": 19,
   "outputs": [],
   "source": [
    "from pymongo import MongoClient\n",
    "from matplotlib import pyplot as plt\n",
    "import numpy as np\n",
    "from dcase2020_task2.data_sets.mcm_dataset import INVERSE_CLASS_MAP, TRAINING_ID_MAP, CLASS_MAP\n",
    "from scipy.stats import rankdata\n",
    "\n",
    "baseline_auc = {\n",
    "    'name': 'baseline',\n",
    "    0: {0: 0.5441, 2: 0.7340, 4: 0.6161, 6: 0.7392},\n",
    "    1: {0: 0.6715, 2: 0.6153, 4: 0.8833, 6: 0.7455},\n",
    "    2: {0: 0.9619, 2: 0.7897, 4: 0.9430, 6: 0.6959},\n",
    "    3: {1: 0.8136, 2: 0.8597, 3: 0.6330, 4: 0.8445},\n",
    "    4: {1: 0.7807, 2: 0.6416, 3: 0.7535},\n",
    "    5: {0: 0.6876, 2: 0.6818, 4: 0.7430, 6: 0.5390}\n",
    "    }\n",
    "    \n",
    "baseline_pauc = {\n",
    "    'name': 'baseline',\n",
    "    0: {0: 0.4937, 2: 0.5481, 4: 0.5326, 6: 0.5235},\n",
    "    1: {0: 0.5674, 2: 0.5810, 4: 0.6710, 6: 0.5802},\n",
    "    2: {0: 0.8144, 2: 0.6368, 4: 0.7198, 6: 0.4902},\n",
    "    3: {1: 0.6840, 2: 0.7772, 3: 0.5521, 4: 0.6897},\n",
    "    4: {1: 0.6425, 2: 0.5601, 3: 0.6103},\n",
    "    5: {0: 0.5170, 2: 0.5183, 4: 0.5197, 6: 0.4843}\n",
    "}\n",
    "\n",
    "baseline_both = {}\n",
    "for t in baseline_auc:\n",
    "    if t == 'name':\n",
    "        baseline_both[t] = 'baseline'\n",
    "        continue\n",
    "    else:\n",
    "        baseline_both[t] = {}\n",
    "    for i in baseline_auc[t]:\n",
    "        baseline_both[t][i] = np.array([baseline_auc[t][i], baseline_pauc[t][i]])\n",
    "\n",
    "\n",
    "def get_experiment(runs, name):\n",
    "    experiment_dict = dict()\n",
    "    for i in range(6):\n",
    "        experiment_dict[i] = dict()\n",
    "    \n",
    "    experiment_dict['name'] = name\n",
    "    \n",
    "    for experiment in runs:\n",
    "        if experiment['config'].get('id') == name:\n",
    "            machine_dict = experiment_dict.get(experiment['config']['machine_type'])\n",
    "            result = experiment.get('result')\n",
    "            machine_type = INVERSE_CLASS_MAP[experiment['config']['machine_type']]\n",
    "            machine_id = experiment['config']['machine_id']\n",
    "            \n",
    "            if result:\n",
    "                machine_dict[experiment['config']['machine_id']] = result.get(\n",
    "                    machine_type, {}\n",
    "                ).get(\n",
    "                    f'json://{machine_id}', -1\n",
    "                ).get('py/tuple', [0, 0])[:2]\n",
    "            else:\n",
    "                machine_dict[experiment['config']['machine_id']] = np.array([0, 0])\n",
    "    return experiment_dict\n",
    "\n",
    "\n",
    "def get_record(experiment):\n",
    "    record = []\n",
    "    for i in range(6):\n",
    "        for j in TRAINING_ID_MAP[i]:\n",
    "                v = experiment.get(i)\n",
    "                if v:\n",
    "                    v = v.get(j, [0, 0])\n",
    "                else:\n",
    "                    v = np.array([0, 0])\n",
    "                record.append(np.array(v))\n",
    "    assert len(record) == 23\n",
    "    return  experiment['name'], record"
   ],
   "metadata": {
    "collapsed": false,
    "pycharm": {
     "name": "#%%\n",
     "is_executing": false
    }
   }
  },
  {
   "cell_type": "code",
   "execution_count": 2,
   "outputs": [],
   "source": [
    "client = MongoClient('mongodb://student2.cp.jku.at:27017/')"
   ],
   "metadata": {
    "collapsed": false,
    "pycharm": {
     "name": "#%%\n",
     "is_executing": false
    }
   }
  },
  {
   "cell_type": "code",
   "execution_count": 26,
   "outputs": [
    {
     "name": "stdout",
     "text": [
      "266\n"
     ],
     "output_type": "stream"
    }
   ],
   "source": [
    "# experiments_made = [r for r in client.dcase2020_2_madog.runs.find({\"experiment.name\": \"dcase2020_task2_BaselineExperiment\"})]\n",
    "# experiments_baseline = [r for r in client.dcase2020_task2_ae_baseline_gridsearch.runs.find({\"experiment.name\": \"dcase2020_task2_BaselineExperiment\"})]\n",
    "# experiments_classification = [r for r in client.dcase2020_task2_complement_classification_gridsearch.runs.find({\"experiment.name\": \"dcase2020_task2_ClassificationExperiment\"})]\n",
    "experiments_conv_class = [r for r in client.resnet_gridsearch.runs.find({\"experiment.name\": \"dcase2020_task2_ClassificationExperiment\"})]\n",
    "print(len(experiments_conv_class))"
   ],
   "metadata": {
    "collapsed": false,
    "pycharm": {
     "name": "#%%\n",
     "is_executing": false
    }
   }
  },
  {
   "cell_type": "code",
   "execution_count": 27,
   "outputs": [],
   "source": [
    "# print(len(experiments_classification))\n",
    "# print(len(experiments_classification))\n",
    "# print(len(experiments_classification))"
   ],
   "metadata": {
    "collapsed": false,
    "pycharm": {
     "name": "#%%\n",
     "is_executing": false
    }
   }
  },
  {
   "cell_type": "code",
   "execution_count": 17,
   "outputs": [
    {
     "name": "stdout",
     "text": [
      "240\n"
     ],
     "output_type": "stream"
    }
   ],
   "source": [],
   "metadata": {
    "collapsed": false,
    "pycharm": {
     "name": "#%%\n",
     "is_executing": false
    }
   }
  },
  {
   "cell_type": "code",
   "execution_count": 28,
   "outputs": [
    {
     "data": {
      "text/plain": "8"
     },
     "metadata": {},
     "output_type": "execute_result",
     "execution_count": 28
    }
   ],
   "source": [
    "experiments = experiments_conv_class# experiments_conv_class # experiments_conv_class # experiments_classification + experiments_baseline + \n",
    "descriptors = set()\n",
    "for experiment in experiments:\n",
    "    descriptors = descriptors.union(set([experiment['config']['id']]))\n",
    "\n",
    "descriptors = list(descriptors)\n",
    "len(descriptors)"
   ],
   "metadata": {
    "collapsed": false,
    "pycharm": {
     "name": "#%%\n",
     "is_executing": false
    }
   }
  },
  {
   "cell_type": "code",
   "execution_count": 29,
   "outputs": [],
   "source": [
    "n, m = get_record(baseline_both)\n",
    "names = [n]\n",
    "metrics = [np.array(m)]\n",
    "\n",
    "for descriptor in descriptors:\n",
    "    n, m = get_record(\n",
    "            get_experiment(\n",
    "                experiments, \n",
    "                descriptor\n",
    "            )\n",
    "        )\n",
    "    names.append(n)\n",
    "    metrics.append(np.array(m))\n"
   ],
   "metadata": {
    "collapsed": false,
    "pycharm": {
     "name": "#%%\n",
     "is_executing": false
    }
   }
  },
  {
   "cell_type": "code",
   "execution_count": 30,
   "outputs": [
    {
     "name": "stdout",
     "text": [
      "6\n3\n3\n4\n3\n2\n"
     ],
     "output_type": "stream"
    }
   ],
   "source": [
    "data = np.array(metrics)\n",
    "idxes = [0, 4, 8, 12, 16, 19, 23]\n",
    "\n",
    "for i, j in zip(idxes[:-1], idxes[1:]):\n",
    "    average_auc = data[:, i:j, 0].mean(axis=1)\n",
    "    average_pauc = data[:, i:j, 1].mean(axis=1)\n",
    "    \n",
    "    print(np.argmax(average_auc + average_pauc))\n"
   ],
   "metadata": {
    "collapsed": false,
    "pycharm": {
     "name": "#%%\n",
     "is_executing": false
    }
   }
  },
  {
   "cell_type": "code",
   "execution_count": 31,
   "outputs": [
    {
     "name": "stdout",
     "text": [
      "(9, 23, 2)\n(9,)\n"
     ],
     "output_type": "stream"
    }
   ],
   "source": [
    "data = np.array(metrics)\n",
    "print(data.shape)\n",
    "\n",
    "auc_ranks = []\n",
    "pauc_ranks = []\n",
    "idxes = [0, 4, 8, 12, 16, 19, 23]\n",
    "for i, j in zip(idxes[:-1], idxes[1:]):\n",
    "    average_auc = data[:, i:j, 0].mean(axis=1)\n",
    "    average_pauc = data[:, i:j, 1].mean(axis=1)\n",
    "    auc_ranks.append(rankdata(-average_auc))\n",
    "    pauc_ranks.append(rankdata(-average_pauc))\n",
    "\n",
    "# print(np.array(list(zip(*auc_ranks))).shape)\n",
    "# print(np.stack([np.array(list(zip(*auc_ranks))), np.array(list(zip(*pauc_ranks)))], axis=-1).shape)\n",
    "\n",
    "ranks = np.stack([np.array(list(zip(*auc_ranks))), np.array(list(zip(*pauc_ranks)))], axis=-1).mean(axis=-1).mean(axis=-1)\n",
    "\n",
    "print(ranks.shape)\n",
    "#average_auc_ranks = auc_ranks.mean(axis=1)"
   ],
   "metadata": {
    "collapsed": false,
    "pycharm": {
     "name": "#%%\n",
     "is_executing": false
    }
   }
  },
  {
   "cell_type": "code",
   "execution_count": 32,
   "outputs": [
    {
     "name": "stdout",
     "text": [
      "0: ID-3 resnet_gridsearch_a_bit_larger_loose_1e-4_100_BCE\n1: ID-8 resnet_gridsearch_a_bit_larger_loose_1e-4_100_AUC\n2: ID-4 resnet_gridsearch_a_bit_smaller_loose_1e-4_100_BCE\n3: ID-5 resnet_gridsearch_normal_loose_1e-4_100_AUC\n4: ID-6 resnet_gridsearch_normal_loose_1e-4_100_BCE\n5: ID-2 resnet_gridsearch_a_bit_smaller_loose_1e-4_100_AUC\n6: ID-0 baseline\n7: ID-1 resnet_gridsearch_a_bit_larger_loose_1e-5_100_BCE\n8: ID-7 resnet_gridsearch_a_bit_larger_loose_1e-5_100_AUC\n"
     ],
     "output_type": "stream"
    }
   ],
   "source": [
    "indices = list(np.argsort(ranks))\n",
    "names = np.array(names)\n",
    "for i, (n, r, j) in enumerate(zip(names[indices], ranks[indices], indices)):\n",
    "    print(f'{i}: ID-{j} {n}')\n",
    "    "
   ],
   "metadata": {
    "collapsed": false,
    "pycharm": {
     "name": "#%%\n",
     "is_executing": false
    }
   }
  },
  {
   "cell_type": "code",
   "execution_count": 33,
   "outputs": [
    {
     "data": {
      "text/plain": "array([0.26413096, 0.25878552, 0.28096897, 0.2607723 , 0.14675175,\n       0.24415946, 0.1154    , 0.23469608, 0.03722921, 0.18273446,\n       0.03891011, 0.23140337, 0.10660563, 0.02934582, 0.27709164,\n       0.15539218, 0.0807375 , 0.19333662, 0.07067458, 0.3124    ,\n       0.05403333, 0.23966667, 0.45241667])"
     },
     "metadata": {},
     "output_type": "execute_result",
     "execution_count": 33
    }
   ],
   "source": [
    " data[5, :, 0] - data[0, :, 0]"
   ],
   "metadata": {
    "collapsed": false,
    "pycharm": {
     "name": "#%%\n",
     "is_executing": false
    }
   }
  },
  {
   "cell_type": "code",
   "execution_count": 35,
   "outputs": [
    {
     "data": {
      "text/plain": "<Figure size 1440x720 with 1 Axes>",
      "image/png": "[encoded data removed]"
     },
     "metadata": {
      "needs_background": "light"
     },
     "output_type": "display_data"
    },
    {
     "data": {
      "text/plain": "(9, 23, 2)"
     },
     "metadata": {},
     "output_type": "execute_result",
     "execution_count": 35
    }
   ],
   "source": [
    "\n",
    "metric = 'auroc_mean'\n",
    "bar_width = 0.6\n",
    "bar_spacing=0.00\n",
    "top = 8\n",
    "\n",
    "top_k_data = data[indices, :, 0 if metric == 'auroc_mean' else 1][:top]\n",
    "baseline_data = data[0:1, :, 0 if metric == 'auroc_mean' else 1]\n",
    "to_visualize = np.concatenate([baseline_data, top_k_data])\n",
    "\n",
    "plt.figure(figsize=(20,10))\n",
    "plt.rcParams.update({'font.size': 22})\n",
    "plt.title(f'{metric}')\n",
    "labels = []\n",
    "\n",
    "for i in range(6):\n",
    "    for j in TRAINING_ID_MAP[i]:\n",
    "        labels.append(\"{}, {}\".format(INVERSE_CLASS_MAP[i][:6], j))\n",
    "\n",
    "for i, d in enumerate(to_visualize):\n",
    "    plt.bar(\n",
    "        np.arange(len(labels)) + i * (bar_width / len(to_visualize) + bar_spacing), \n",
    "        d,\n",
    "        bar_width/ len(to_visualize),\n",
    "    )\n",
    "\n",
    "plt.xticks(np.arange(len(labels)), labels, rotation='vertical')\n",
    "plt.yticks(np.arange(0, 1., 0.1))\n",
    "plt.grid()\n",
    "plt.savefig(f'top_{top}_auc.png')\n",
    "plt.show()\n",
    "\n",
    "data.shape"
   ],
   "metadata": {
    "collapsed": false,
    "pycharm": {
     "name": "#%%\n",
     "is_executing": false
    }
   }
  },
  {
   "cell_type": "code",
   "execution_count": 231,
   "outputs": [
    {
     "data": {
      "text/plain": "<Figure size 1440x720 with 1 Axes>",
      "image/png": "[encoded data removed]"
     },
     "metadata": {
      "needs_background": "light"
     },
     "output_type": "display_data"
    },
    {
     "data": {
      "text/plain": "(13, 23, 2)"
     },
     "metadata": {},
     "output_type": "execute_result",
     "execution_count": 231
    }
   ],
   "source": [
    "metric = 'auroc_mean'\n",
    "bar_width = 0.6\n",
    "bar_spacing=0.00\n",
    "top = 4\n",
    "\n",
    "top_k_data = data[indices, :, 0 if metric == 'auroc_mean' else 1][:top]\n",
    "baseline_data = data[0:1, :, 0 if metric == 'auroc_mean' else 1]\n",
    "to_visualize = np.concatenate([baseline_data, top_k_data])\n",
    "\n",
    "plt.figure(figsize=(20,10))\n",
    "plt.rcParams.update({'font.size': 22})\n",
    "plt.title(f'{metric}')\n",
    "labels = []\n",
    "\n",
    "for i in range(6):\n",
    "    for j in TRAINING_ID_MAP[i]:\n",
    "        labels.append(\"{}, {}\".format(INVERSE_CLASS_MAP[i][:6], j))\n",
    "\n",
    "for i, d in enumerate(to_visualize):\n",
    "    plt.bar(\n",
    "        np.arange(len(labels)) + i * (bar_width / len(to_visualize) + bar_spacing), \n",
    "        d,\n",
    "        bar_width/ len(to_visualize),\n",
    "    )\n",
    "\n",
    "plt.xticks(np.arange(len(labels)), labels, rotation='vertical')\n",
    "plt.yticks(np.arange(0, 1., 0.1))\n",
    "plt.grid()\n",
    "plt.savefig(f'top_{top}_auc.png')\n",
    "plt.show()\n",
    "\n",
    "data.shape"
   ],
   "metadata": {
    "collapsed": false,
    "pycharm": {
     "name": "#%%\n",
     "is_executing": false
    }
   }
  },
  {
   "cell_type": "code",
   "execution_count": 14,
   "outputs": [
    {
     "data": {
      "text/plain": "array([0.66022113, 0.97420613, 0.77778736, 0.83592798, 0.83125874,\n       0.57900901, 0.9998    , 0.93352941, 0.98213483, 0.87044944,\n       0.98337079, 0.79932584, 0.67949134, 0.85772507, 0.98574663,\n       0.99833962, 0.86285938, 0.61017606, 0.75180595, 0.98756303,\n       0.7855    , 0.78733333, 0.82433333])"
     },
     "metadata": {},
     "output_type": "execute_result",
     "execution_count": 14
    }
   ],
   "source": [
    "data[41, :, 0]"
   ],
   "metadata": {
    "collapsed": false,
    "pycharm": {
     "name": "#%%\n",
     "is_executing": false
    }
   }
  },
  {
   "cell_type": "code",
   "execution_count": null,
   "outputs": [],
   "source": [
    "metric = 'auroc_mean'\n",
    "bar_width = 0.6\n",
    "bar_spacing=0.00\n",
    "top = 8\n",
    "\n",
    "top_k_data = data[indices, :, 0 if metric == 'auroc_mean' else 1][:top]\n",
    "baseline_data = data[0:1, :, 0 if metric == 'auroc_mean' else 1]\n",
    "to_visualize = np.concatenate([top_k_data])\n",
    "\n",
    "plt.figure(figsize=(20,10))\n",
    "plt.rcParams.update({'font.size': 22})\n",
    "plt.title(f'{metric}')\n",
    "labels = []\n",
    "\n",
    "for i in range(6):\n",
    "    for j in TRAINING_ID_MAP[i]:\n",
    "        labels.append(\"{}, {}\".format(INVERSE_CLASS_MAP[i][:6], j))\n",
    "\n",
    "for i, d in enumerate(to_visualize):\n",
    "    plt.bar(\n",
    "        np.arange(len(labels)) + i * (bar_width / len(to_visualize) + bar_spacing), \n",
    "        d,\n",
    "        bar_width/ len(to_visualize),\n",
    "    )\n",
    "\n",
    "plt.xticks(np.arange(len(labels)), labels, rotation='vertical')\n",
    "plt.yticks(np.arange(0, 1., 0.1))\n",
    "plt.grid()\n",
    "plt.savefig(f'top_{top}_auc.png')\n",
    "plt.show()\n",
    "\n",
    "data.shape"
   ],
   "metadata": {
    "collapsed": false,
    "pycharm": {
     "name": "#%%\n"
    }
   }
  }
 ],
 "metadata": {
  "kernelspec": {
   "name": "python3",
   "language": "python",
   "display_name": "Python 3"
  },
  "language_info": {
   "codemirror_mode": {
    "name": "ipython",
    "version": 2
   },
   "file_extension": ".py",
   "mimetype": "text/x-python",
   "name": "python",
   "nbconvert_exporter": "python",
   "pygments_lexer": "ipython2",
   "version": "2.7.6"
  },
  "pycharm": {
   "stem_cell": {
    "cell_type": "raw",
    "source": [],
    "metadata": {
     "collapsed": false
    }
   }
  }
 },
 "nbformat": 4,
 "nbformat_minor": 0
}