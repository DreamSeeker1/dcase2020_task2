{
 "cells": [
  {
   "cell_type": "code",
   "execution_count": 7,
   "outputs": [],
   "source": [
    "from pymongo import MongoClient\n",
    "from matplotlib import pyplot as plt\n",
    "import numpy as np\n",
    "from dcase2020_task2.data_sets.mcm_dataset import INVERSE_CLASS_MAP, TRAINING_ID_MAP, CLASS_MAP\n",
    "from scipy.stats import rankdata\n",
    "\n",
    "baseline_auc = {\n",
    "    'name': 'baseline',\n",
    "    0: {0: 0.5441, 2: 0.7340, 4: 0.6161, 6: 0.7392},\n",
    "    1: {0: 0.6715, 2: 0.6153, 4: 0.8833, 6: 0.7455},\n",
    "    2: {0: 0.9619, 2: 0.7897, 4: 0.9430, 6: 0.6959},\n",
    "    3: {1: 0.8136, 2: 0.8597, 3: 0.6330, 4: 0.8445},\n",
    "    4: {1: 0.7807, 2: 0.6416, 3: 0.7535},\n",
    "    5: {0: 0.6876, 2: 0.6818, 4: 0.7430, 6: 0.5390}\n",
    "    }\n",
    "    \n",
    "baseline_pauc = {\n",
    "    'name': 'baseline',\n",
    "    0: {0: 0.4937, 2: 0.5481, 4: 0.5326, 6: 0.5235},\n",
    "    1: {0: 0.5674, 2: 0.5810, 4: 0.6710, 6: 0.5802},\n",
    "    2: {0: 0.8144, 2: 0.6368, 4: 0.7198, 6: 0.4902},\n",
    "    3: {1: 0.6840, 2: 0.7772, 3: 0.5521, 4: 0.6897},\n",
    "    4: {1: 0.6425, 2: 0.5601, 3: 0.6103},\n",
    "    5: {0: 0.5170, 2: 0.5183, 4: 0.5197, 6: 0.4843}\n",
    "}\n",
    "\n",
    "baseline_both = {}\n",
    "for t in baseline_auc:\n",
    "    if t == 'name':\n",
    "        baseline_both[t] = 'baseline'\n",
    "        continue\n",
    "    else:\n",
    "        baseline_both[t] = {}\n",
    "    for i in baseline_auc[t]:\n",
    "        baseline_both[t][i] = np.array([baseline_auc[t][i], baseline_pauc[t][i]])\n",
    "\n",
    "\n",
    "def get_experiment(runs, name):\n",
    "    experiment_dict = dict()\n",
    "    for i in range(6):\n",
    "        experiment_dict[i] = dict()\n",
    "    \n",
    "    experiment_dict['name'] = name\n",
    "    \n",
    "    for experiment in runs:\n",
    "        if experiment['config'].get('id') == name:\n",
    "            machine_dict = experiment_dict.get(experiment['config']['machine_type'])\n",
    "            result = experiment.get('result')\n",
    "            machine_type = INVERSE_CLASS_MAP[experiment['config']['machine_type']]\n",
    "            machine_id = experiment['config']['machine_id']\n",
    "            \n",
    "            if result:\n",
    "                machine_dict[experiment['config']['machine_id']] = result.get(\n",
    "                    machine_type, {}\n",
    "                ).get(\n",
    "                    f'json://{machine_id}', -1\n",
    "                ).get('py/tuple', [0, 0])[:2]\n",
    "            else:\n",
    "                machine_dict[experiment['config']['machine_id']] = np.array([0, 0])\n",
    "    return experiment_dict\n",
    "\n",
    "\n",
    "def get_record(experiment):\n",
    "    record = []\n",
    "    for i in range(6):\n",
    "        for j in TRAINING_ID_MAP[i]:\n",
    "                v = experiment.get(i)\n",
    "                if v:\n",
    "                    v = v.get(j, [0, 0])\n",
    "                else:\n",
    "                    v = np.array([0, 0])\n",
    "                record.append(np.array(v))\n",
    "    assert len(record) == 23\n",
    "    return  experiment['name'], record"
   ],
   "metadata": {
    "collapsed": false,
    "pycharm": {
     "name": "#%%\n",
     "is_executing": false
    }
   }
  },
  {
   "cell_type": "code",
   "execution_count": 8,
   "outputs": [
    {
     "name": "stdout",
     "text": [
      "Loaded 563 runs.\n"
     ],
     "output_type": "stream"
    }
   ],
   "source": [
    "client = MongoClient('mongodb://student2.cp.jku.at:27017/')\n",
    "experiments = [r for r in client.resnet_gridsearch.runs.find({\"experiment.name\": \"dcase2020_task2_ClassificationExperiment\"})]\n",
    "print(f'Loaded {len(experiments)} runs.')"
   ],
   "metadata": {
    "collapsed": false,
    "pycharm": {
     "name": "#%%\n",
     "is_executing": false
    }
   }
  },
  {
   "cell_type": "code",
   "execution_count": 13,
   "outputs": [
    {
     "name": "stdout",
     "text": [
      "Loaded 13 distinct experiments.\n"
     ],
     "output_type": "stream"
    }
   ],
   "source": [
    "descriptors = set()\n",
    "for experiment in experiments:\n",
    "    descriptors = descriptors.union(set([experiment['config']['id']]))\n",
    "descriptors = list(descriptors)\n",
    "descriptors = [d for d in descriptors if d.split('_')[-1] != 'rerun']\n",
    "print(f'Loaded {len(descriptors)} distinct experiments.')"
   ],
   "metadata": {
    "collapsed": false,
    "pycharm": {
     "name": "#%%\n",
     "is_executing": false
    }
   }
  },
  {
   "cell_type": "code",
   "execution_count": 14,
   "outputs": [],
   "source": [
    "# Extract Results\n",
    "# Concatenate Baseline Results\n",
    "n, m = get_record(baseline_both)\n",
    "names = [n]\n",
    "metrics = [np.array(m)]\n",
    "\n",
    "for descriptor in descriptors:\n",
    "    n, m = get_record(\n",
    "            get_experiment(\n",
    "                experiments, \n",
    "                descriptor\n",
    "            )\n",
    "        )\n",
    "    names.append(n)\n",
    "    metrics.append(np.array(m))"
   ],
   "metadata": {
    "collapsed": false,
    "pycharm": {
     "name": "#%%\n",
     "is_executing": false
    }
   }
  },
  {
   "cell_type": "code",
   "execution_count": 15,
   "outputs": [
    {
     "name": "stdout",
     "text": [
      "Best Model for Machine Type 0: [ 1  6  5 12 11  9  2 10  3  7 13  4  8  0]\n",
      "Best Model for Machine Type 1: [ 1 10  6  9  3  5 13  2 11 12  7  8  4  0]\n",
      "Best Model for Machine Type 2: [10  5 12  1 11  3  2 13  9  6  4  8  7  0]\n",
      "Best Model for Machine Type 3: [ 2 12  4  5 11  6 10  3  1 13  9  8  7  0]\n",
      "Best Model for Machine Type 4: [13  3 12 11 10  9  7  6  8  4  5  2  0  1]\n",
      "Best Model for Machine Type 5: [ 4  8  2  7 10  5  9  6 13 11 12  3  0  1]\n"
     ],
     "output_type": "stream"
    }
   ],
   "source": [
    "data = np.array(metrics)\n",
    "auc_ranks = []\n",
    "pauc_ranks = []\n",
    "idxes = [0, 4, 8, 12, 16, 19, 23]\n",
    "for type_, (i, j) in enumerate(zip(idxes[:-1], idxes[1:])):\n",
    "    average_auc = data[:, i:j, 0].mean(axis=1)\n",
    "    average_pauc = data[:, i:j, 1].mean(axis=1)\n",
    "    print(f'Best Model for Machine Type {type_}: {np.argsort(average_auc + average_pauc)[::-1]}')\n",
    "    auc_ranks.append(rankdata(-average_auc))\n",
    "    pauc_ranks.append(rankdata(-average_pauc))"
   ],
   "metadata": {
    "collapsed": false,
    "pycharm": {
     "name": "#%%\n",
     "is_executing": false
    }
   }
  },
  {
   "cell_type": "code",
   "execution_count": 16,
   "outputs": [
    {
     "name": "stdout",
     "text": [
      "0: ID-10 resnet_gridsearch_a_bit_larger_loose_1e-4_100_BCE\n",
      "1: ID-5 resnet_gridsearch_a_bit_larger_loose_1e-4_100_AUC\n",
      "2: ID-12 resnet_gridsearch_a_bit_larger_loose_1e-5_100_BCE\n",
      "3: ID-2 resnet_gridsearch_a_bit_smaller_loose_1e-4_100_BCE\n",
      "4: ID-11 resnet_gridsearch_a_bit_larger_loose_1e-5_100_AUC\n",
      "5: ID-6 resnet_gridsearch_normal_loose_1e-4_100_BCE\n",
      "6: ID-1 resnet_gridsearch_2_a_bit_larger_loose_1e-4_0.99_100_BCE\n",
      "7: ID-3 resnet_gridsearch_normal_loose_1e-5_100_BCE\n",
      "8: ID-9 resnet_gridsearch_normal_loose_1e-4_100_AUC\n",
      "9: ID-4 resnet_gridsearch_a_bit_smaller_loose_1e-4_100_AUC\n",
      "10: ID-13 resnet_gridsearch_normal_loose_1e-5_100_AUC\n",
      "11: ID-7 resnet_gridsearch_a_bit_smaller_loose_1e-5_100_AUC\n",
      "12: ID-8 resnet_gridsearch_a_bit_smaller_loose_1e-5_100_BCE\n",
      "13: ID-0 baseline\n"
     ],
     "output_type": "stream"
    }
   ],
   "source": [
    "ranks = np.stack([np.array(list(zip(*auc_ranks))), np.array(list(zip(*pauc_ranks)))], axis=-1).mean(axis=-1).mean(axis=-1)\n",
    "\n",
    "indices = list(np.argsort(ranks))\n",
    "names = np.array(names)\n",
    "for i, (n, r, j) in enumerate(zip(names[indices], ranks[indices], indices)):\n",
    "    print(f'{i}: ID-{j} {n}')"
   ],
   "metadata": {
    "collapsed": false,
    "pycharm": {
     "name": "#%%\n",
     "is_executing": false
    }
   }
  },
  {
   "cell_type": "code",
   "execution_count": 20,
   "outputs": [
    {
     "data": {
      "text/plain": "[10, 5, 12, 2, 11, 6, 1, 3, 9, 4, 13, 7, 8, 0]"
     },
     "metadata": {},
     "output_type": "execute_result",
     "execution_count": 20
    }
   ],
   "source": [
    "indices"
   ],
   "metadata": {
    "collapsed": false,
    "pycharm": {
     "name": "#%%\n",
     "is_executing": false
    }
   }
  },
  {
   "cell_type": "code",
   "execution_count": 22,
   "outputs": [
    {
     "data": {
      "text/plain": "<Figure size 1440x720 with 1 Axes>",
      "image/png": "[encoded data removed]"
     },
     "metadata": {
      "needs_background": "light"
     },
     "output_type": "display_data"
    },
    {
     "data": {
      "text/plain": "(14, 23, 2)"
     },
     "metadata": {},
     "output_type": "execute_result",
     "execution_count": 22
    }
   ],
   "source": [
    "metric = 'auroc_mean'\n",
    "bar_width = 0.6\n",
    "bar_spacing=0.00\n",
    "top = 10\n",
    "\n",
    "top_k_data = data[[10, 1], :, 0 if metric == 'auroc_mean' else 1][:top]\n",
    "baseline_data = data[0:1, :, 0 if metric == 'auroc_mean' else 1]\n",
    "to_visualize = np.concatenate([baseline_data, top_k_data])\n",
    "\n",
    "plt.figure(figsize=(20,10))\n",
    "plt.rcParams.update({'font.size': 22})\n",
    "plt.title(f'{metric}')\n",
    "labels = []\n",
    "\n",
    "for i in range(6):\n",
    "    for j in TRAINING_ID_MAP[i]:\n",
    "        labels.append(\"{}, {}\".format(INVERSE_CLASS_MAP[i][:6], j))\n",
    "\n",
    "for i, d in enumerate(to_visualize):\n",
    "    plt.bar(\n",
    "        np.arange(len(labels)) + i * (bar_width / len(to_visualize) + bar_spacing), \n",
    "        d,\n",
    "        bar_width/ len(to_visualize),\n",
    "    )\n",
    "\n",
    "plt.xticks(np.arange(len(labels)), labels, rotation='vertical')\n",
    "plt.ylim(0.5, 1.)\n",
    "plt.yticks(np.arange(0.5, 1., 0.1))\n",
    "plt.grid()\n",
    "plt.savefig(f'top_{top}_auc.png')\n",
    "plt.show()\n",
    "\n",
    "data.shape"
   ],
   "metadata": {
    "collapsed": false,
    "pycharm": {
     "name": "#%%\n",
     "is_executing": false
    }
   }
  },
  {
   "cell_type": "code",
   "execution_count": 77,
   "outputs": [
    {
     "data": {
      "text/plain": "<Figure size 1440x720 with 1 Axes>",
      "image/png": "[encoded data removed]"
     },
     "metadata": {
      "needs_background": "light"
     },
     "output_type": "display_data"
    },
    {
     "data": {
      "text/plain": "(11, 23, 2)"
     },
     "metadata": {},
     "output_type": "execute_result",
     "execution_count": 77
    }
   ],
   "source": [
    "\n",
    "\n",
    "\n",
    "metric = 'pauroc_mean'\n",
    "bar_width = 0.6\n",
    "bar_spacing=0.00\n",
    "top = 10\n",
    "\n",
    "top_k_data = data[indices, :, 0 if metric == 'auroc_mean' else 1][:top]\n",
    "baseline_data = data[0:1, :, 0 if metric == 'auroc_mean' else 1]\n",
    "to_visualize = np.concatenate([baseline_data, top_k_data])\n",
    "\n",
    "plt.figure(figsize=(20,10))\n",
    "plt.rcParams.update({'font.size': 22})\n",
    "plt.title(f'{metric}')\n",
    "labels = []\n",
    "\n",
    "for i in range(6):\n",
    "    for j in TRAINING_ID_MAP[i]:\n",
    "        labels.append(\"{}, {}\".format(INVERSE_CLASS_MAP[i][:6], j))\n",
    "\n",
    "for i, d in enumerate(to_visualize):\n",
    "    plt.bar(\n",
    "        np.arange(len(labels)) + i * (bar_width / len(to_visualize) + bar_spacing), \n",
    "        d,\n",
    "        bar_width/ len(to_visualize),\n",
    "    )\n",
    "\n",
    "plt.xticks(np.arange(len(labels)), labels, rotation='vertical')\n",
    "plt.ylim(0.45, 1.)\n",
    "plt.yticks(np.arange(0.5, 1., 0.1))\n",
    "plt.grid()\n",
    "plt.savefig(f'top_{top}_auc.png')\n",
    "plt.show()\n",
    "\n",
    "data.shape"
   ],
   "metadata": {
    "collapsed": false,
    "pycharm": {
     "name": "#%%\n",
     "is_executing": false
    }
   }
  },
  {
   "cell_type": "code",
   "execution_count": null,
   "outputs": [],
   "source": [
    "\n"
   ],
   "metadata": {
    "collapsed": false,
    "pycharm": {
     "name": "#%%\n"
    }
   }
  }
 ],
 "metadata": {
  "kernelspec": {
   "name": "python3",
   "language": "python",
   "display_name": "Python 3"
  },
  "language_info": {
   "codemirror_mode": {
    "name": "ipython",
    "version": 2
   },
   "file_extension": ".py",
   "mimetype": "text/x-python",
   "name": "python",
   "nbconvert_exporter": "python",
   "pygments_lexer": "ipython2",
   "version": "2.7.6"
  },
  "pycharm": {
   "stem_cell": {
    "cell_type": "raw",
    "source": [],
    "metadata": {
     "collapsed": false
    }
   }
  }
 },
 "nbformat": 4,
 "nbformat_minor": 0
}