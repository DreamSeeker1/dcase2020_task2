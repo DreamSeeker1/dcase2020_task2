{
 "cells": [
  {
   "cell_type": "code",
   "execution_count": 1,
   "metadata": {
    "collapsed": true,
    "pycharm": {
     "is_executing": false
    }
   },
   "outputs": [],
   "source": [
    "import numpy as np\n",
    "from dcase2020_task2.data_sets.mcm_dataset import MCMDataSet, TRAINING_ID_MAP, INVERSE_CLASS_MAP\n",
    "import matplotlib.pyplot as plt\n",
    "import librosa"
   ]
  },
  {
   "cell_type": "code",
   "execution_count": 2,
   "outputs": [
    {
     "name": "stdout",
     "text": [
      "Loading & saving training data set for machine type fan id 0...\n",
      "Loading & saving validation data set for machine type fan id 0...\n",
      "Loading & saving training data set for machine type fan id 2...\n",
      "Loading & saving validation data set for machine type fan id 2...\n",
      "Loading & saving training data set for machine type fan id 4...\n",
      "Loading & saving validation data set for machine type fan id 4...\n",
      "Loading & saving training data set for machine type fan id 6...\n",
      "Loading & saving validation data set for machine type fan id 6...\n",
      "Loading & saving training data set for machine type pump id 0...\n",
      "Loading & saving validation data set for machine type pump id 0...\n",
      "Loading & saving training data set for machine type pump id 2...\n",
      "Loading & saving validation data set for machine type pump id 2...\n",
      "Loading & saving training data set for machine type pump id 4...\n",
      "Loading & saving validation data set for machine type pump id 4...\n",
      "Loading & saving training data set for machine type pump id 6...\n",
      "Loading & saving validation data set for machine type pump id 6...\n",
      "Loading & saving training data set for machine type slider id 0...\n",
      "Loading & saving validation data set for machine type slider id 0...\n",
      "Loading & saving training data set for machine type slider id 2...\n",
      "Loading & saving validation data set for machine type slider id 2...\n",
      "Loading & saving training data set for machine type slider id 4...\n",
      "Loading & saving validation data set for machine type slider id 4...\n",
      "Loading & saving training data set for machine type slider id 6...\n",
      "Loading & saving validation data set for machine type slider id 6...\n",
      "Loading & saving training data set for machine type ToyCar id 1...\n",
      "Loading & saving validation data set for machine type ToyCar id 1...\n",
      "Loading & saving training data set for machine type ToyCar id 2...\n",
      "Loading & saving validation data set for machine type ToyCar id 2...\n",
      "Loading & saving training data set for machine type ToyCar id 3...\n",
      "Loading & saving validation data set for machine type ToyCar id 3...\n",
      "Loading & saving training data set for machine type ToyCar id 4...\n",
      "Loading & saving validation data set for machine type ToyCar id 4...\n",
      "Loading & saving training data set for machine type ToyConveyor id 1...\n",
      "Loading & saving validation data set for machine type ToyConveyor id 1...\n",
      "Loading & saving training data set for machine type ToyConveyor id 2...\n",
      "Loading & saving validation data set for machine type ToyConveyor id 2...\n",
      "Loading & saving training data set for machine type ToyConveyor id 3...\n",
      "Loading & saving validation data set for machine type ToyConveyor id 3...\n",
      "Loading & saving training data set for machine type valve id 0...\n",
      "Loading & saving validation data set for machine type valve id 0...\n",
      "Loading & saving training data set for machine type valve id 2...\n",
      "Loading & saving validation data set for machine type valve id 2...\n",
      "Loading & saving training data set for machine type valve id 4...\n",
      "Loading & saving validation data set for machine type valve id 4...\n",
      "Loading & saving training data set for machine type valve id 6...\n",
      "Loading & saving validation data set for machine type valve id 6...\n"
     ],
     "output_type": "stream"
    }
   ],
   "source": [
    "global_data_set = MCMDataSet(normalize=False)"
   ],
   "metadata": {
    "collapsed": false,
    "pycharm": {
     "name": "#%%\n",
     "is_executing": false
    }
   }
  },
  {
   "cell_type": "code",
   "execution_count": 3,
   "outputs": [
    {
     "name": "stdout",
     "text": [
      "\n",
      "===MACHINE: fan===\n",
      " 0 0: -2.1719305515289307 4.662074565887451 -20.961694717407227 16.88946533203125\n",
      " 0 2: -1.3251569271087646 4.324743270874023 -20.542030334472656 16.266542434692383\n",
      " 0 4: -1.7273964881896973 4.544060707092285 -19.97147560119629 19.082714080810547\n",
      " 0 6: -1.927679419517517 4.635128974914551 -18.836572647094727 19.19536781311035\n",
      "\n",
      "===MACHINE: pump===\n",
      " 1 0: -1.4334322214126587 4.113282680511475 -18.697608947753906 16.472143173217773\n",
      " 1 2: -1.6100929975509644 4.232186794281006 -16.47922134399414 17.080463409423828\n",
      " 1 4: -1.097121238708496 3.5684027671813965 -18.363821029663086 16.592391967773438\n",
      " 1 6: -2.254270553588867 4.796261787414551 -21.058151245117188 18.074493408203125\n",
      "\n",
      "===MACHINE: slider===\n",
      " 2 0: -2.1614556312561035 4.650446891784668 -21.05531883239746 18.358665466308594\n",
      " 2 2: -2.3301987648010254 4.663578033447266 -22.180904388427734 18.92790985107422\n",
      " 2 4: -1.7846553325653076 4.3031229972839355 -18.99070930480957 18.721588134765625\n",
      " 2 6: -1.9114632606506348 4.309309482574463 -17.825546264648438 15.64365005493164\n",
      "\n",
      "===MACHINE: ToyCar===\n",
      " 3 1: -3.737070083618164 6.006504535675049 -32.82356643676758 17.367494583129883\n",
      " 3 2: -3.543549060821533 6.102766990661621 -32.50827407836914 17.260164260864258\n",
      " 3 3: -3.9416182041168213 6.205404281616211 -33.59266662597656 17.403757095336914\n",
      " 3 4: -3.4535086154937744 6.095860481262207 -32.99007797241211 17.276119232177734\n",
      "\n",
      "===MACHINE: ToyConveyor===\n",
      " 4 1: -5.730165958404541 7.152305603027344 -35.647884368896484 17.4061279296875\n",
      " 4 2: -5.641188621520996 7.145573616027832 -34.69649887084961 17.329742431640625\n",
      " 4 3: -4.913700103759766 6.8223161697387695 -34.3238525390625 18.064760208129883\n",
      "\n",
      "===MACHINE: valve===\n",
      " 5 0: -2.3208625316619873 4.549140453338623 -20.941936492919922 18.614646911621094\n",
      " 5 2: -2.255707263946533 4.538985729217529 -20.05978775024414 17.780717849731445\n",
      " 5 4: -2.171593189239502 4.4919257164001465 -23.379194259643555 20.343605041503906\n",
      " 5 6: -2.154022216796875 4.536656379699707 -19.375864028930664 17.90149688720703\n"
     ],
     "output_type": "stream"
    }
   ],
   "source": [
    "for i in [0, 1, 2, 3, 4, 5]:\n",
    "    print(\"\\n===MACHINE: {}===\".format(INVERSE_CLASS_MAP[i]))\n",
    "    for j in TRAINING_ID_MAP[i]:\n",
    "        data = global_data_set.data_sets[i][j][0].data\n",
    "        print(\" {} {}: {} {} {} {}\".format(i, j, data.mean(), data.std(), data.min(), data.max()))"
   ],
   "metadata": {
    "collapsed": false,
    "pycharm": {
     "name": "#%%\n",
     "is_executing": false
    }
   }
  },
  {
   "cell_type": "code",
   "execution_count": 4,
   "outputs": [
    {
     "name": "stdout",
     "text": [
      "\n",
      "===MACHINE: fan===\n",
      " 0 0: -0.08933787792921066 0.9703465104103088 -7.03611421585083 7.895759105682373\n",
      " 0 2: 0.24096326529979706 0.850817859172821 -8.102295875549316 7.172799110412598\n",
      " 0 4: 0.08105944097042084 0.9050031304359436 -7.591675281524658 6.824311256408691\n",
      " 0 6: 0.002873427467420697 0.9396154880523682 -8.113207817077637 7.144719123840332\n",
      "\n",
      "===MACHINE: pump===\n",
      " 1 0: 0.19303379952907562 0.8918400406837463 -8.048925399780273 7.288379192352295\n",
      " 1 2: 0.12292482703924179 0.918567955493927 -7.378749370574951 7.12493896484375\n",
      " 1 4: 0.319163978099823 0.9467781782150269 -8.268993377685547 7.871455192565918\n",
      " 1 6: -0.1221403256058693 0.9975405931472778 -7.0991692543029785 6.254748344421387\n",
      "\n",
      "===MACHINE: slider===\n",
      " 2 0: -0.08462555706501007 1.0019686222076416 -8.254349708557129 6.724973201751709\n",
      " 2 2: -0.1524689793586731 1.0043723583221436 -7.395613193511963 8.133195877075195\n",
      " 2 4: 0.056053463369607925 1.0970830917358398 -6.717521667480469 7.6771416664123535\n",
      " 2 6: -0.0023164446465671062 1.061475157737732 -7.753297805786133 5.955791473388672\n",
      "\n",
      "===MACHINE: ToyCar===\n",
      " 3 1: 0.22875188291072845 0.9082689881324768 -8.121313095092773 7.617609024047852\n",
      " 3 2: 0.30558374524116516 0.8879460692405701 -7.737884044647217 7.583626747131348\n",
      " 3 3: 0.15762145817279816 0.8979321718215942 -7.929665565490723 7.647948265075684\n",
      " 3 4: 0.33813825249671936 0.9275583028793335 -7.853988170623779 7.5797529220581055\n",
      "\n",
      "===MACHINE: ToyConveyor===\n",
      " 4 1: -0.48724251985549927 0.997201144695282 -9.554882049560547 7.605721950531006\n",
      " 4 2: -0.4560030996799469 1.0120530128479004 -8.155914306640625 9.02469253540039\n",
      " 4 3: -0.18887192010879517 0.9891762137413025 -7.718881130218506 8.386497497558594\n",
      "\n",
      "===MACHINE: valve===\n",
      " 5 0: -0.15114182233810425 1.0772279500961304 -7.636446475982666 7.117736339569092\n",
      " 5 2: -0.1262664943933487 1.0771900415420532 -8.046224594116211 7.556013107299805\n",
      " 5 4: -0.09822585433721542 1.0737943649291992 -7.934584617614746 8.776019096374512\n",
      " 5 6: -0.08466077595949173 1.0946580171585083 -8.156294822692871 6.559940814971924\n"
     ],
     "output_type": "stream"
    }
   ],
   "source": [
    "toy = []\n",
    "real = []\n",
    "\n",
    "for i in [0, 1, 2, 3, 4, 5]:\n",
    "    for j in TRAINING_ID_MAP[i]:\n",
    "        data = global_data_set.data_sets[i][j][0].data\n",
    "        if i == 3 or i == 4:\n",
    "            toy.append(data)\n",
    "        else:\n",
    "            real.append(data)       \n",
    "\n",
    "toy = np.concatenate(toy, axis=1)\n",
    "real = np.concatenate(real, axis=1)\n",
    "\n",
    "for i in [0, 1, 2, 3, 4, 5]:\n",
    "    print(\"\\n===MACHINE: {}===\".format(INVERSE_CLASS_MAP[i]))\n",
    "    for j in TRAINING_ID_MAP[i]:\n",
    "        data = global_data_set.data_sets[i][j][0].data\n",
    "\n",
    "        if i == 3 or i == 4:\n",
    "            mean = toy.mean(axis=1, keepdims=True)\n",
    "            std = toy.std(axis=1, keepdims=True)\n",
    "        else:\n",
    "            mean = real.mean(axis=1, keepdims=True)\n",
    "            std = real.std(axis=1, keepdims=True) \n",
    "        \n",
    "        data = (data - mean) / std\n",
    "        print(\" {} {}: {} {} {} {}\".format(\n",
    "            i, \n",
    "            j, \n",
    "            data.mean(), \n",
    "            data.std(), \n",
    "            data.min(), \n",
    "            data.max())\n",
    "        )      "
   ],
   "metadata": {
    "collapsed": false,
    "pycharm": {
     "name": "#%%\n",
     "is_executing": false
    }
   }
  },
  {
   "cell_type": "code",
   "execution_count": 5,
   "outputs": [
    {
     "name": "stdout",
     "text": [
      "\n",
      "===MACHINE: fan===\n",
      " 0 0: 0.16999195516109467 0.8738657832145691 -6.981350898742676 7.087948322296143\n",
      " 0 2: 0.45946958661079407 0.785319447517395 -7.565849304199219 6.05511999130249\n",
      " 0 4: 0.32552725076675415 0.8085528612136841 -7.57932710647583 7.160754680633545\n",
      " 0 6: 0.25878703594207764 0.8608725070953369 -8.077392578125 7.078117370605469\n",
      "\n",
      "===MACHINE: pump===\n",
      " 1 0: 0.403493732213974 0.843977689743042 -8.015641212463379 6.592822074890137\n",
      " 1 2: 0.3422306478023529 0.8674562573432922 -7.0853753089904785 6.345381736755371\n",
      " 1 4: 0.48828622698783875 0.9470726847648621 -8.227043151855469 7.098057746887207\n",
      " 1 6: 0.15157166123390198 0.8722658753395081 -6.692295074462891 6.214192867279053\n",
      "\n",
      "===MACHINE: slider===\n",
      " 2 0: 0.17408789694309235 0.9025779366493225 -8.165599822998047 6.018310070037842\n",
      " 2 2: 0.1127338707447052 0.9098665118217468 -7.377525329589844 7.32260799407959\n",
      " 2 4: 0.2681368589401245 1.0088813304901123 -6.906660079956055 6.683195114135742\n",
      " 2 6: 0.22863569855690002 0.9702684879302979 -7.731654644012451 5.652835369110107\n",
      "\n",
      "===MACHINE: ToyCar===\n",
      " 3 1: -0.23627187311649323 0.8900701999664307 -7.866321086883545 5.438938140869141\n",
      " 3 2: -0.1591602861881256 0.8874322175979614 -7.474871635437012 5.407446384429932\n",
      " 3 3: -0.2919566035270691 0.9087985754013062 -7.674767017364502 5.442610263824463\n",
      " 3 4: -0.13043594360351562 0.906562328338623 -7.59912633895874 5.407144069671631\n",
      "\n",
      "===MACHINE: ToyConveyor===\n",
      " 4 1: -0.855813205242157 1.0642821788787842 -9.408955574035645 5.213264465332031\n",
      " 4 2: -0.8293910622596741 1.080015778541565 -8.82620906829834 5.49611759185791\n",
      " 4 3: -0.5909394025802612 1.0109047889709473 -6.969018936157227 5.798005104064941\n",
      "\n",
      "===MACHINE: valve===\n",
      " 5 0: 0.10776437819004059 0.9728512763977051 -7.660716533660889 6.819591522216797\n",
      " 5 2: 0.1287858635187149 0.9757360219955444 -8.206208229064941 6.17753267288208\n",
      " 5 4: 0.15068300068378448 0.973194420337677 -8.18480396270752 7.745075702667236\n",
      " 5 6: 0.16193105280399323 0.9908447265625 -8.141815185546875 6.117884159088135\n"
     ],
     "output_type": "stream"
    }
   ],
   "source": [
    "data = []\n",
    "\n",
    "for i in [0, 1, 2, 3, 4, 5]:\n",
    "    for j in TRAINING_ID_MAP[i]:\n",
    "        data_ = global_data_set.data_sets[i][j][0].data\n",
    "        data.append(data_)\n",
    "\n",
    "data = np.concatenate(data, axis=1)\n",
    "mean = data.mean(axis=1, keepdims=True)\n",
    "std = data.std(axis=1, keepdims=True)\n",
    "\n",
    "for i in [0, 1, 2, 3, 4, 5]:\n",
    "    print(\"\\n===MACHINE: {}===\".format(INVERSE_CLASS_MAP[i]))\n",
    "    for j in TRAINING_ID_MAP[i]:\n",
    "        data = global_data_set.data_sets[i][j][0].data  \n",
    "        data = (data - mean) / std\n",
    "        \n",
    "        print(\" {} {}: {} {} {} {}\".format(\n",
    "            i, \n",
    "            j, \n",
    "            data.mean(), \n",
    "            data.std(), \n",
    "            data.min(), \n",
    "            data.max())\n",
    "        )"
   ],
   "metadata": {
    "collapsed": false,
    "pycharm": {
     "name": "#%%\n",
     "is_executing": false
    }
   }
  },
  {
   "cell_type": "code",
   "execution_count": null,
   "outputs": [],
   "source": [
    "other = []\n",
    "car = []\n",
    "conveyor = []\n",
    "\n",
    "for i in [0, 1, 2, 3, 4, 5]:\n",
    "    for j in TRAINING_ID_MAP[i]:\n",
    "        data = global_data_set.data_sets[i][j][0].data\n",
    "        if i == 3:\n",
    "            car.append(data)\n",
    "        if i == 4:\n",
    "            conveyor.append(data)\n",
    "        else:\n",
    "            other.append(data)       \n",
    "\n",
    "other = np.concatenate(other, axis=1)\n",
    "car = np.concatenate(car, axis=1)\n",
    "conveyor = np.concatenate(conveyor, axis=1)\n",
    "\n",
    "for i in [0, 1, 2, 3, 4, 5]:\n",
    "    for j in TRAINING_ID_MAP[i]:\n",
    "        data = global_data_set.data_sets[i][j][0].data\n",
    "        # print(conveyor.shape)\n",
    "        if i == 3:\n",
    "            mean = car.mean(axis=1, keepdims=True)\n",
    "            std = car.std(axis=1, keepdims=True)\n",
    "        if i == 4:\n",
    "            mean = conveyor.mean(axis=1, keepdims=True)\n",
    "            std = conveyor.std(axis=1, keepdims=True)\n",
    "        else:\n",
    "            mean = other.mean(axis=1, keepdims=True)\n",
    "            std = other.std(axis=1, keepdims=True) \n",
    "            \n",
    "            \n",
    "        sample = (data[:, 2100:2300] - mean) / std\n",
    "        \n",
    "        # print((data - mean) / std)\n",
    "        print(\"{} {}\".format(((data - mean) / std).mean(), ((data - mean) / std).std()))\n",
    "        \n",
    "        plt.title(\"{}{}\".format(i, j))\n",
    "        plt.imshow(sample, vmin=-7, vmax=7)\n",
    "        plt.colorbar()\n",
    "        plt.show()"
   ],
   "metadata": {
    "collapsed": false,
    "pycharm": {
     "name": "#%%\n"
    }
   }
  }
 ],
 "metadata": {
  "kernelspec": {
   "display_name": "Python 3",
   "language": "python",
   "name": "python3"
  },
  "language_info": {
   "codemirror_mode": {
    "name": "ipython",
    "version": 2
   },
   "file_extension": ".py",
   "mimetype": "text/x-python",
   "name": "python",
   "nbconvert_exporter": "python",
   "pygments_lexer": "ipython2",
   "version": "2.7.6"
  },
  "pycharm": {
   "stem_cell": {
    "cell_type": "raw",
    "source": [],
    "metadata": {
     "collapsed": false
    }
   }
  }
 },
 "nbformat": 4,
 "nbformat_minor": 0
}